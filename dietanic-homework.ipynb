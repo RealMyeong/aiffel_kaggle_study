{
 "cells": [
  {
   "cell_type": "markdown",
   "id": "27e7f1f3",
   "metadata": {
    "papermill": {
     "duration": 0.008944,
     "end_time": "2022-07-10T05:40:57.561800",
     "exception": false,
     "start_time": "2022-07-10T05:40:57.552856",
     "status": "completed"
    },
    "tags": []
   },
   "source": [
    "# EDA to Prediction(DieTanic)"
   ]
  },
  {
   "cell_type": "markdown",
   "id": "eaf3b3fa",
   "metadata": {
    "papermill": {
     "duration": 0.007238,
     "end_time": "2022-07-10T05:40:57.576832",
     "exception": false,
     "start_time": "2022-07-10T05:40:57.569594",
     "status": "completed"
    },
    "tags": []
   },
   "source": [
    "타이타닉 침몰은 역사상 가장 유명한 해상사고중 하나입니다. 1912년 4월 15일, 타이타닉의 첫 항해중, 타이타닉은 빙하와 충돌하여 침몰했고, 2224명의 승객과 선원들 중 1502명이 죽었습니다.\n",
    "이것이 DieTanic이라고 이름붙인 이유입니다.\n",
    "이 사건은 세상의 어떤 누구도 있을수없는 재앙입니다.\n",
    "이 사건은 배가 충돌에 의해 바다에 가라 앉으면서, 타이타닉을 만들기 위해 사용된 750만 달러와 그 배를 가져갔습니다. 타이타닉 Dataset은 데이터사이언스에 대한 공부나 캐글 컴퍼티션에 참가를 시작하는 사람들에게 아주 좋은 dataset입니다.\n",
    "\n",
    "이 노트북의 목적은 예측 모델링 문제에서 어떻게 작업의 흐름을 가져갈지에 대한 아이디어를 주기 위함입니다.\n",
    "어떻게 우리가 feature들을 체크할지, 어떻게 우리가 새로운 feature들을 더하고 약간의 머신러닝 컨셉을 더할지. 저는 이 노트북은 최대한 새로 시작하는 사람들이 모든 분단들을 이해하기 쉽도록 가능한 기본적인 것들로 만들었습니다."
   ]
  },
  {
   "cell_type": "markdown",
   "id": "c59d31a1",
   "metadata": {
    "papermill": {
     "duration": 0.007283,
     "end_time": "2022-07-10T05:40:57.591810",
     "exception": false,
     "start_time": "2022-07-10T05:40:57.584527",
     "status": "completed"
    },
    "tags": []
   },
   "source": [
    "## Contents of the Notebook:\n",
    "### Part1 : Exploratory Data Analysis(EDA):\n",
    "1) Analysis of the features\n",
    "\n",
    "2) Finding any relations or trends considering multiple features\n",
    "\n",
    "### Part2 : Feature Engineering and Data Cleaning\n",
    "1) adding any few features\n",
    "\n",
    "2) Removing redundant features (불필요한 feature 삭제)\n",
    "\n",
    "3) Converting features into suitable form for modeling\n",
    "\n",
    "### Part3 : Predictive Modeling\n",
    "1) Running Basic Algorithms\n",
    "\n",
    "2) Cross Validation(교차검증)\n",
    "\n",
    "3) Ensembling\n",
    "\n",
    "4) Important Features Extraction"
   ]
  },
  {
   "cell_type": "markdown",
   "id": "c96674c1",
   "metadata": {
    "papermill": {
     "duration": 0.007345,
     "end_time": "2022-07-10T05:40:57.606795",
     "exception": false,
     "start_time": "2022-07-10T05:40:57.599450",
     "status": "completed"
    },
    "tags": []
   },
   "source": [
    "## Part1 : Exploratory Data Analysis(EDA)"
   ]
  },
  {
   "cell_type": "code",
   "execution_count": 1,
   "id": "887dc590",
   "metadata": {
    "execution": {
     "iopub.execute_input": "2022-07-10T05:40:57.625125Z",
     "iopub.status.busy": "2022-07-10T05:40:57.624508Z",
     "iopub.status.idle": "2022-07-10T05:40:58.760397Z",
     "shell.execute_reply": "2022-07-10T05:40:58.759279Z"
    },
    "papermill": {
     "duration": 1.148505,
     "end_time": "2022-07-10T05:40:58.762915",
     "exception": false,
     "start_time": "2022-07-10T05:40:57.614410",
     "status": "completed"
    },
    "tags": []
   },
   "outputs": [],
   "source": [
    "import numpy as np\n",
    "import pandas as pd\n",
    "import matplotlib.pyplot as plt\n",
    "import seaborn as sns\n",
    "plt.style.use('fivethirtyeight')\n",
    "import warnings\n",
    "warnings.filterwarnings('ignore')\n",
    "%matplotlib inline"
   ]
  },
  {
   "cell_type": "code",
   "execution_count": 2,
   "id": "5929e4af",
   "metadata": {
    "execution": {
     "iopub.execute_input": "2022-07-10T05:40:58.780478Z",
     "iopub.status.busy": "2022-07-10T05:40:58.780102Z",
     "iopub.status.idle": "2022-07-10T05:40:58.798425Z",
     "shell.execute_reply": "2022-07-10T05:40:58.797534Z"
    },
    "papermill": {
     "duration": 0.030062,
     "end_time": "2022-07-10T05:40:58.800886",
     "exception": false,
     "start_time": "2022-07-10T05:40:58.770824",
     "status": "completed"
    },
    "tags": []
   },
   "outputs": [],
   "source": [
    "data=pd.read_csv('../input/titanic/train.csv')"
   ]
  },
  {
   "cell_type": "code",
   "execution_count": 3,
   "id": "04c86524",
   "metadata": {
    "execution": {
     "iopub.execute_input": "2022-07-10T05:40:58.818821Z",
     "iopub.status.busy": "2022-07-10T05:40:58.817753Z",
     "iopub.status.idle": "2022-07-10T05:40:58.842090Z",
     "shell.execute_reply": "2022-07-10T05:40:58.840950Z"
    },
    "papermill": {
     "duration": 0.036356,
     "end_time": "2022-07-10T05:40:58.845115",
     "exception": false,
     "start_time": "2022-07-10T05:40:58.808759",
     "status": "completed"
    },
    "tags": []
   },
   "outputs": [
    {
     "data": {
      "text/html": [
       "<div>\n",
       "<style scoped>\n",
       "    .dataframe tbody tr th:only-of-type {\n",
       "        vertical-align: middle;\n",
       "    }\n",
       "\n",
       "    .dataframe tbody tr th {\n",
       "        vertical-align: top;\n",
       "    }\n",
       "\n",
       "    .dataframe thead th {\n",
       "        text-align: right;\n",
       "    }\n",
       "</style>\n",
       "<table border=\"1\" class=\"dataframe\">\n",
       "  <thead>\n",
       "    <tr style=\"text-align: right;\">\n",
       "      <th></th>\n",
       "      <th>PassengerId</th>\n",
       "      <th>Survived</th>\n",
       "      <th>Pclass</th>\n",
       "      <th>Name</th>\n",
       "      <th>Sex</th>\n",
       "      <th>Age</th>\n",
       "      <th>SibSp</th>\n",
       "      <th>Parch</th>\n",
       "      <th>Ticket</th>\n",
       "      <th>Fare</th>\n",
       "      <th>Cabin</th>\n",
       "      <th>Embarked</th>\n",
       "    </tr>\n",
       "  </thead>\n",
       "  <tbody>\n",
       "    <tr>\n",
       "      <th>0</th>\n",
       "      <td>1</td>\n",
       "      <td>0</td>\n",
       "      <td>3</td>\n",
       "      <td>Braund, Mr. Owen Harris</td>\n",
       "      <td>male</td>\n",
       "      <td>22.0</td>\n",
       "      <td>1</td>\n",
       "      <td>0</td>\n",
       "      <td>A/5 21171</td>\n",
       "      <td>7.2500</td>\n",
       "      <td>NaN</td>\n",
       "      <td>S</td>\n",
       "    </tr>\n",
       "    <tr>\n",
       "      <th>1</th>\n",
       "      <td>2</td>\n",
       "      <td>1</td>\n",
       "      <td>1</td>\n",
       "      <td>Cumings, Mrs. John Bradley (Florence Briggs Th...</td>\n",
       "      <td>female</td>\n",
       "      <td>38.0</td>\n",
       "      <td>1</td>\n",
       "      <td>0</td>\n",
       "      <td>PC 17599</td>\n",
       "      <td>71.2833</td>\n",
       "      <td>C85</td>\n",
       "      <td>C</td>\n",
       "    </tr>\n",
       "    <tr>\n",
       "      <th>2</th>\n",
       "      <td>3</td>\n",
       "      <td>1</td>\n",
       "      <td>3</td>\n",
       "      <td>Heikkinen, Miss. Laina</td>\n",
       "      <td>female</td>\n",
       "      <td>26.0</td>\n",
       "      <td>0</td>\n",
       "      <td>0</td>\n",
       "      <td>STON/O2. 3101282</td>\n",
       "      <td>7.9250</td>\n",
       "      <td>NaN</td>\n",
       "      <td>S</td>\n",
       "    </tr>\n",
       "    <tr>\n",
       "      <th>3</th>\n",
       "      <td>4</td>\n",
       "      <td>1</td>\n",
       "      <td>1</td>\n",
       "      <td>Futrelle, Mrs. Jacques Heath (Lily May Peel)</td>\n",
       "      <td>female</td>\n",
       "      <td>35.0</td>\n",
       "      <td>1</td>\n",
       "      <td>0</td>\n",
       "      <td>113803</td>\n",
       "      <td>53.1000</td>\n",
       "      <td>C123</td>\n",
       "      <td>S</td>\n",
       "    </tr>\n",
       "    <tr>\n",
       "      <th>4</th>\n",
       "      <td>5</td>\n",
       "      <td>0</td>\n",
       "      <td>3</td>\n",
       "      <td>Allen, Mr. William Henry</td>\n",
       "      <td>male</td>\n",
       "      <td>35.0</td>\n",
       "      <td>0</td>\n",
       "      <td>0</td>\n",
       "      <td>373450</td>\n",
       "      <td>8.0500</td>\n",
       "      <td>NaN</td>\n",
       "      <td>S</td>\n",
       "    </tr>\n",
       "  </tbody>\n",
       "</table>\n",
       "</div>"
      ],
      "text/plain": [
       "   PassengerId  Survived  Pclass  \\\n",
       "0            1         0       3   \n",
       "1            2         1       1   \n",
       "2            3         1       3   \n",
       "3            4         1       1   \n",
       "4            5         0       3   \n",
       "\n",
       "                                                Name     Sex   Age  SibSp  \\\n",
       "0                            Braund, Mr. Owen Harris    male  22.0      1   \n",
       "1  Cumings, Mrs. John Bradley (Florence Briggs Th...  female  38.0      1   \n",
       "2                             Heikkinen, Miss. Laina  female  26.0      0   \n",
       "3       Futrelle, Mrs. Jacques Heath (Lily May Peel)  female  35.0      1   \n",
       "4                           Allen, Mr. William Henry    male  35.0      0   \n",
       "\n",
       "   Parch            Ticket     Fare Cabin Embarked  \n",
       "0      0         A/5 21171   7.2500   NaN        S  \n",
       "1      0          PC 17599  71.2833   C85        C  \n",
       "2      0  STON/O2. 3101282   7.9250   NaN        S  \n",
       "3      0            113803  53.1000  C123        S  \n",
       "4      0            373450   8.0500   NaN        S  "
      ]
     },
     "execution_count": 3,
     "metadata": {},
     "output_type": "execute_result"
    }
   ],
   "source": [
    "data.head()"
   ]
  },
  {
   "cell_type": "code",
   "execution_count": 4,
   "id": "3402c13d",
   "metadata": {
    "execution": {
     "iopub.execute_input": "2022-07-10T05:40:58.863973Z",
     "iopub.status.busy": "2022-07-10T05:40:58.862890Z",
     "iopub.status.idle": "2022-07-10T05:40:58.871144Z",
     "shell.execute_reply": "2022-07-10T05:40:58.870343Z"
    },
    "papermill": {
     "duration": 0.019653,
     "end_time": "2022-07-10T05:40:58.873040",
     "exception": false,
     "start_time": "2022-07-10T05:40:58.853387",
     "status": "completed"
    },
    "tags": []
   },
   "outputs": [
    {
     "data": {
      "text/plain": [
       "PassengerId      0\n",
       "Survived         0\n",
       "Pclass           0\n",
       "Name             0\n",
       "Sex              0\n",
       "Age            177\n",
       "SibSp            0\n",
       "Parch            0\n",
       "Ticket           0\n",
       "Fare             0\n",
       "Cabin          687\n",
       "Embarked         2\n",
       "dtype: int64"
      ]
     },
     "execution_count": 4,
     "metadata": {},
     "output_type": "execute_result"
    }
   ],
   "source": [
    "data.isnull().sum() # checking for total null values"
   ]
  },
  {
   "cell_type": "markdown",
   "id": "e48e1d7b",
   "metadata": {
    "papermill": {
     "duration": 0.007826,
     "end_time": "2022-07-10T05:40:58.889039",
     "exception": false,
     "start_time": "2022-07-10T05:40:58.881213",
     "status": "completed"
    },
    "tags": []
   },
   "source": [
    "The **Age, Cabin and Embarked** have null values, I will try to fix them."
   ]
  },
  {
   "cell_type": "markdown",
   "id": "538c8688",
   "metadata": {
    "papermill": {
     "duration": 0.007891,
     "end_time": "2022-07-10T05:40:58.905110",
     "exception": false,
     "start_time": "2022-07-10T05:40:58.897219",
     "status": "completed"
    },
    "tags": []
   },
   "source": [
    "## How many Survived??"
   ]
  },
  {
   "cell_type": "code",
   "execution_count": 5,
   "id": "c38bf053",
   "metadata": {
    "execution": {
     "iopub.execute_input": "2022-07-10T05:40:58.923640Z",
     "iopub.status.busy": "2022-07-10T05:40:58.922916Z",
     "iopub.status.idle": "2022-07-10T05:40:59.234510Z",
     "shell.execute_reply": "2022-07-10T05:40:59.233383Z"
    },
    "papermill": {
     "duration": 0.323522,
     "end_time": "2022-07-10T05:40:59.236831",
     "exception": false,
     "start_time": "2022-07-10T05:40:58.913309",
     "status": "completed"
    },
    "tags": []
   },
   "outputs": [
    {
     "data": {
      "text/plain": [
       "<function matplotlib.pyplot.show(close=None, block=None)>"
      ]
     },
     "execution_count": 5,
     "metadata": {},
     "output_type": "execute_result"
    },
    {
     "data": {
      "image/png": "[encoded data removed]",
      "text/plain": [
       "<Figure size 1296x576 with 2 Axes>"
      ]
     },
     "metadata": {
      "needs_background": "light"
     },
     "output_type": "display_data"
    }
   ],
   "source": [
    "f, ax=plt.subplots(1,2,figsize=(18,8))\n",
    "data['Survived'].value_counts().plot.pie(explode=[0,0.1], autopct='%1.1f%%', ax=ax[0], shadow=True)\n",
    "ax[0].set_title('Survived')\n",
    "ax[0].set_ylabel('')\n",
    "sns.countplot('Survived', data=data, ax=ax[1])\n",
    "ax[1].set_title('Survived')\n",
    "plt.show"
   ]
  },
  {
   "cell_type": "markdown",
   "id": "cd84d1ed",
   "metadata": {
    "papermill": {
     "duration": 0.008829,
     "end_time": "2022-07-10T05:40:59.254673",
     "exception": false,
     "start_time": "2022-07-10T05:40:59.245844",
     "status": "completed"
    },
    "tags": []
   },
   "source": [
    "It is evident that not many passengers survived the accident.\n",
    "\n",
    "Out of 891 passengers in training set, only around 350 survived i.e(다시 말해) Only **38.4%** of the total training set survived the crash. We need to dig down more to get better insights from the data and see which categories of the passengers did survive and who didn't.\n",
    "\n",
    "We will try to check the survival rate by using the different features of the dataset. Some of the features being Sex, Port Of Embarcation, Age, etc.\n",
    "\n",
    "First let us understand the different types of features."
   ]
  },
  {
   "cell_type": "markdown",
   "id": "79fa871b",
   "metadata": {
    "papermill": {
     "duration": 0.008788,
     "end_time": "2022-07-10T05:40:59.272441",
     "exception": false,
     "start_time": "2022-07-10T05:40:59.263653",
     "status": "completed"
    },
    "tags": []
   },
   "source": [
    "## Types Of Features\n",
    "### Categorical Features:\n",
    "\n",
    "A categorical variable is one that has two or more categories and each value in that feature can be categorised by them. For example, gender is a categorical variable having two categories(male and female). Now we cannot sort or give any ordering to such variables. They are also known as **Nominal Variables**.\n",
    "\n",
    "**Categorical Features in the dataset: Sex, Emberked.**\n",
    "\n",
    "### Ordinal Features:\n",
    "\n",
    "An ordinal variable is similar to categorical values, but the difference betseen them is that we can have relative ordering or sorting between the values. For eg: if we have a feature like Height with values Tall, Medium, Short, then Height is a ordinal variable. Here we can have relative sort in the variable.\n",
    "\n",
    "**Ordinal Features in the dataset : PClass**\n",
    "\n",
    "### Continous Feature:\n",
    "\n",
    "A feature is said to be continous if it can take values between any two points or between the minimum or maximum values in the features column.\n",
    "\n",
    "**Continous Features in the dataset : Age**"
   ]
  },
  {
   "cell_type": "markdown",
   "id": "575787e4",
   "metadata": {
    "papermill": {
     "duration": 0.008852,
     "end_time": "2022-07-10T05:40:59.290671",
     "exception": false,
     "start_time": "2022-07-10T05:40:59.281819",
     "status": "completed"
    },
    "tags": []
   },
   "source": [
    "## Analysing The Features\n",
    "\n",
    "## Sex --> Categorical Feature"
   ]
  },
  {
   "cell_type": "code",
   "execution_count": 6,
   "id": "efffe748",
   "metadata": {
    "execution": {
     "iopub.execute_input": "2022-07-10T05:40:59.310748Z",
     "iopub.status.busy": "2022-07-10T05:40:59.310072Z",
     "iopub.status.idle": "2022-07-10T05:40:59.319066Z",
     "shell.execute_reply": "2022-07-10T05:40:59.318211Z"
    },
    "papermill": {
     "duration": 0.021356,
     "end_time": "2022-07-10T05:40:59.321096",
     "exception": false,
     "start_time": "2022-07-10T05:40:59.299740",
     "status": "completed"
    },
    "tags": []
   },
   "outputs": [
    {
     "data": {
      "text/plain": [
       "Sex     Survived\n",
       "female  0            81\n",
       "        1           233\n",
       "male    0           468\n",
       "        1           109\n",
       "Name: Survived, dtype: int64"
      ]
     },
     "execution_count": 6,
     "metadata": {},
     "output_type": "execute_result"
    }
   ],
   "source": [
    "data.groupby(['Sex','Survived'])['Survived'].count()"
   ]
  },
  {
   "cell_type": "code",
   "execution_count": 7,
   "id": "721704bb",
   "metadata": {
    "execution": {
     "iopub.execute_input": "2022-07-10T05:40:59.341243Z",
     "iopub.status.busy": "2022-07-10T05:40:59.340807Z",
     "iopub.status.idle": "2022-07-10T05:40:59.646049Z",
     "shell.execute_reply": "2022-07-10T05:40:59.644907Z"
    },
    "papermill": {
     "duration": 0.318342,
     "end_time": "2022-07-10T05:40:59.648374",
     "exception": false,
     "start_time": "2022-07-10T05:40:59.330032",
     "status": "completed"
    },
    "tags": []
   },
   "outputs": [
    {
     "data": {
      "image/png": "[encoded data removed]",
      "text/plain": [
       "<Figure size 1296x576 with 2 Axes>"
      ]
     },
     "metadata": {
      "needs_background": "light"
     },
     "output_type": "display_data"
    }
   ],
   "source": [
    "f, ax=plt.subplots(1,2,figsize=(18,8))\n",
    "data[['Sex', 'Survived']].groupby(['Sex']).mean().plot.bar(ax=ax[0])\n",
    "ax[0].set_title('Survived vs Sex')\n",
    "sns.countplot('Sex', hue='Survived', data=data, ax=ax[1])\n",
    "ax[1].set_title('Sex : Survived vs Dead')\n",
    "plt.show()"
   ]
  },
  {
   "cell_type": "markdown",
   "id": "8016d814",
   "metadata": {
    "papermill": {
     "duration": 0.009007,
     "end_time": "2022-07-10T05:40:59.666766",
     "exception": false,
     "start_time": "2022-07-10T05:40:59.657759",
     "status": "completed"
    },
    "tags": []
   },
   "source": [
    "This looks interesting. The number of men on the ship is lot more than the number of wemen.\n",
    "Still the number of women saved is almost twice the number of males saved. The survival rates for a **women on the ship is around 75% while that for men in around 18-19%.**\n",
    "\n",
    "This looks to be a **very important**feature for modeling. But is it the best?? Lets check other features"
   ]
  },
  {
   "cell_type": "markdown",
   "id": "e8789097",
   "metadata": {
    "papermill": {
     "duration": 0.00884,
     "end_time": "2022-07-10T05:40:59.684641",
     "exception": false,
     "start_time": "2022-07-10T05:40:59.675801",
     "status": "completed"
    },
    "tags": []
   },
   "source": [
    "## Pclass --> Ordinal Feature"
   ]
  },
  {
   "cell_type": "code",
   "execution_count": 8,
   "id": "bf4d9b06",
   "metadata": {
    "execution": {
     "iopub.execute_input": "2022-07-10T05:40:59.704623Z",
     "iopub.status.busy": "2022-07-10T05:40:59.704249Z",
     "iopub.status.idle": "2022-07-10T05:40:59.809039Z",
     "shell.execute_reply": "2022-07-10T05:40:59.807859Z"
    },
    "papermill": {
     "duration": 0.117779,
     "end_time": "2022-07-10T05:40:59.811517",
     "exception": false,
     "start_time": "2022-07-10T05:40:59.693738",
     "status": "completed"
    },
    "tags": []
   },
   "outputs": [
    {
     "data": {
      "text/html": [
       "<style type=\"text/css\">\n",
       "#T_b8695_row0_col0, #T_b8695_row1_col1, #T_b8695_row1_col2 {\n",
       "  background-color: #ffff66;\n",
       "  color: #000000;\n",
       "}\n",
       "#T_b8695_row0_col1 {\n",
       "  background-color: #cee666;\n",
       "  color: #000000;\n",
       "}\n",
       "#T_b8695_row0_col2 {\n",
       "  background-color: #f4fa66;\n",
       "  color: #000000;\n",
       "}\n",
       "#T_b8695_row1_col0 {\n",
       "  background-color: #f6fa66;\n",
       "  color: #000000;\n",
       "}\n",
       "#T_b8695_row2_col0 {\n",
       "  background-color: #60b066;\n",
       "  color: #f1f1f1;\n",
       "}\n",
       "#T_b8695_row2_col1 {\n",
       "  background-color: #dfef66;\n",
       "  color: #000000;\n",
       "}\n",
       "#T_b8695_row2_col2 {\n",
       "  background-color: #90c866;\n",
       "  color: #000000;\n",
       "}\n",
       "#T_b8695_row3_col0, #T_b8695_row3_col1, #T_b8695_row3_col2 {\n",
       "  background-color: #008066;\n",
       "  color: #f1f1f1;\n",
       "}\n",
       "</style>\n",
       "<table id=\"T_b8695_\">\n",
       "  <thead>\n",
       "    <tr>\n",
       "      <th class=\"index_name level0\" >Survived</th>\n",
       "      <th class=\"col_heading level0 col0\" >0</th>\n",
       "      <th class=\"col_heading level0 col1\" >1</th>\n",
       "      <th class=\"col_heading level0 col2\" >All</th>\n",
       "    </tr>\n",
       "    <tr>\n",
       "      <th class=\"index_name level0\" >Pclass</th>\n",
       "      <th class=\"blank col0\" >&nbsp;</th>\n",
       "      <th class=\"blank col1\" >&nbsp;</th>\n",
       "      <th class=\"blank col2\" >&nbsp;</th>\n",
       "    </tr>\n",
       "  </thead>\n",
       "  <tbody>\n",
       "    <tr>\n",
       "      <th id=\"T_b8695_level0_row0\" class=\"row_heading level0 row0\" >1</th>\n",
       "      <td id=\"T_b8695_row0_col0\" class=\"data row0 col0\" >80</td>\n",
       "      <td id=\"T_b8695_row0_col1\" class=\"data row0 col1\" >136</td>\n",
       "      <td id=\"T_b8695_row0_col2\" class=\"data row0 col2\" >216</td>\n",
       "    </tr>\n",
       "    <tr>\n",
       "      <th id=\"T_b8695_level0_row1\" class=\"row_heading level0 row1\" >2</th>\n",
       "      <td id=\"T_b8695_row1_col0\" class=\"data row1 col0\" >97</td>\n",
       "      <td id=\"T_b8695_row1_col1\" class=\"data row1 col1\" >87</td>\n",
       "      <td id=\"T_b8695_row1_col2\" class=\"data row1 col2\" >184</td>\n",
       "    </tr>\n",
       "    <tr>\n",
       "      <th id=\"T_b8695_level0_row2\" class=\"row_heading level0 row2\" >3</th>\n",
       "      <td id=\"T_b8695_row2_col0\" class=\"data row2 col0\" >372</td>\n",
       "      <td id=\"T_b8695_row2_col1\" class=\"data row2 col1\" >119</td>\n",
       "      <td id=\"T_b8695_row2_col2\" class=\"data row2 col2\" >491</td>\n",
       "    </tr>\n",
       "    <tr>\n",
       "      <th id=\"T_b8695_level0_row3\" class=\"row_heading level0 row3\" >All</th>\n",
       "      <td id=\"T_b8695_row3_col0\" class=\"data row3 col0\" >549</td>\n",
       "      <td id=\"T_b8695_row3_col1\" class=\"data row3 col1\" >342</td>\n",
       "      <td id=\"T_b8695_row3_col2\" class=\"data row3 col2\" >891</td>\n",
       "    </tr>\n",
       "  </tbody>\n",
       "</table>\n"
      ],
      "text/plain": [
       "<pandas.io.formats.style.Styler at 0x7f54d0896f50>"
      ]
     },
     "execution_count": 8,
     "metadata": {},
     "output_type": "execute_result"
    }
   ],
   "source": [
    "pd.crosstab(data.Pclass, data.Survived, margins=True).style.background_gradient(cmap='summer_r')"
   ]
  },
  {
   "cell_type": "code",
   "execution_count": 9,
   "id": "5bf222c7",
   "metadata": {
    "execution": {
     "iopub.execute_input": "2022-07-10T05:40:59.832919Z",
     "iopub.status.busy": "2022-07-10T05:40:59.832020Z",
     "iopub.status.idle": "2022-07-10T05:41:00.130270Z",
     "shell.execute_reply": "2022-07-10T05:41:00.129038Z"
    },
    "papermill": {
     "duration": 0.311892,
     "end_time": "2022-07-10T05:41:00.133087",
     "exception": false,
     "start_time": "2022-07-10T05:40:59.821195",
     "status": "completed"
    },
    "tags": []
   },
   "outputs": [
    {
     "data": {
      "image/png": "[encoded data removed]",
      "text/plain": [
       "<Figure size 1296x576 with 2 Axes>"
      ]
     },
     "metadata": {
      "needs_background": "light"
     },
     "output_type": "display_data"
    }
   ],
   "source": [
    "f, ax=plt.subplots(1,2,figsize=(18,8))\n",
    "data['Pclass'].value_counts().plot.bar(color=['#CD7F32','#FFDF00','#D3D3D3'], ax=ax[0])\n",
    "ax[0].set_title('Number Of Passengers By Pclass')\n",
    "ax[0].set_ylabel('Count')\n",
    "sns.countplot('Pclass', hue='Survived', data=data, ax=ax[1])\n",
    "ax[1].set_title('Pclass : Survived vs Dead')\n",
    "plt.show()"
   ]
  },
  {
   "cell_type": "markdown",
   "id": "61233a41",
   "metadata": {
    "papermill": {
     "duration": 0.009527,
     "end_time": "2022-07-10T05:41:00.152739",
     "exception": false,
     "start_time": "2022-07-10T05:41:00.143212",
     "status": "completed"
    },
    "tags": []
   },
   "source": [
    "People say **Money can't buy everything.** But we can clearly see that Passengers of Pclass 1 were given a very high priority while rescue. Even though the number of Passengers in Pclass 3 were a lot higher, still the number of survival from them is very low, somewhere around **25%** ( 25% 언저리에)\n",
    "\n",
    "For Pclass 1 %survived is around **63%** while for Pclass2 is around **48%**. So money and status matters. Such a materialistic world.\n",
    "\n",
    "Lets Dive in little bit more and check for other interesting observations. Lets check survival rate with **Sex and Pclass** Together.\n",
    "\n"
   ]
  },
  {
   "cell_type": "code",
   "execution_count": 10,
   "id": "736db3f5",
   "metadata": {
    "execution": {
     "iopub.execute_input": "2022-07-10T05:41:00.174358Z",
     "iopub.status.busy": "2022-07-10T05:41:00.173279Z",
     "iopub.status.idle": "2022-07-10T05:41:00.220785Z",
     "shell.execute_reply": "2022-07-10T05:41:00.219965Z"
    },
    "papermill": {
     "duration": 0.06053,
     "end_time": "2022-07-10T05:41:00.222873",
     "exception": false,
     "start_time": "2022-07-10T05:41:00.162343",
     "status": "completed"
    },
    "tags": []
   },
   "outputs": [
    {
     "data": {
      "text/html": [
       "<style type=\"text/css\">\n",
       "#T_00ea4_row0_col0, #T_00ea4_row0_col1, #T_00ea4_row0_col3, #T_00ea4_row3_col2 {\n",
       "  background-color: #ffff66;\n",
       "  color: #000000;\n",
       "}\n",
       "#T_00ea4_row0_col2, #T_00ea4_row1_col2 {\n",
       "  background-color: #f1f866;\n",
       "  color: #000000;\n",
       "}\n",
       "#T_00ea4_row1_col0 {\n",
       "  background-color: #96cb66;\n",
       "  color: #000000;\n",
       "}\n",
       "#T_00ea4_row1_col1 {\n",
       "  background-color: #a3d166;\n",
       "  color: #000000;\n",
       "}\n",
       "#T_00ea4_row1_col3 {\n",
       "  background-color: #cfe766;\n",
       "  color: #000000;\n",
       "}\n",
       "#T_00ea4_row2_col0 {\n",
       "  background-color: #a7d366;\n",
       "  color: #000000;\n",
       "}\n",
       "#T_00ea4_row2_col1, #T_00ea4_row2_col3 {\n",
       "  background-color: #85c266;\n",
       "  color: #000000;\n",
       "}\n",
       "#T_00ea4_row2_col2 {\n",
       "  background-color: #6eb666;\n",
       "  color: #f1f1f1;\n",
       "}\n",
       "#T_00ea4_row3_col0 {\n",
       "  background-color: #cde666;\n",
       "  color: #000000;\n",
       "}\n",
       "#T_00ea4_row3_col1 {\n",
       "  background-color: #f0f866;\n",
       "  color: #000000;\n",
       "}\n",
       "#T_00ea4_row3_col3 {\n",
       "  background-color: #f7fb66;\n",
       "  color: #000000;\n",
       "}\n",
       "#T_00ea4_row4_col0, #T_00ea4_row4_col1, #T_00ea4_row4_col2, #T_00ea4_row4_col3 {\n",
       "  background-color: #008066;\n",
       "  color: #f1f1f1;\n",
       "}\n",
       "</style>\n",
       "<table id=\"T_00ea4_\">\n",
       "  <thead>\n",
       "    <tr>\n",
       "      <th class=\"blank\" >&nbsp;</th>\n",
       "      <th class=\"index_name level0\" >Pclass</th>\n",
       "      <th class=\"col_heading level0 col0\" >1</th>\n",
       "      <th class=\"col_heading level0 col1\" >2</th>\n",
       "      <th class=\"col_heading level0 col2\" >3</th>\n",
       "      <th class=\"col_heading level0 col3\" >All</th>\n",
       "    </tr>\n",
       "    <tr>\n",
       "      <th class=\"index_name level0\" >Sex</th>\n",
       "      <th class=\"index_name level1\" >Survived</th>\n",
       "      <th class=\"blank col0\" >&nbsp;</th>\n",
       "      <th class=\"blank col1\" >&nbsp;</th>\n",
       "      <th class=\"blank col2\" >&nbsp;</th>\n",
       "      <th class=\"blank col3\" >&nbsp;</th>\n",
       "    </tr>\n",
       "  </thead>\n",
       "  <tbody>\n",
       "    <tr>\n",
       "      <th id=\"T_00ea4_level0_row0\" class=\"row_heading level0 row0\" rowspan=\"2\">female</th>\n",
       "      <th id=\"T_00ea4_level1_row0\" class=\"row_heading level1 row0\" >0</th>\n",
       "      <td id=\"T_00ea4_row0_col0\" class=\"data row0 col0\" >3</td>\n",
       "      <td id=\"T_00ea4_row0_col1\" class=\"data row0 col1\" >6</td>\n",
       "      <td id=\"T_00ea4_row0_col2\" class=\"data row0 col2\" >72</td>\n",
       "      <td id=\"T_00ea4_row0_col3\" class=\"data row0 col3\" >81</td>\n",
       "    </tr>\n",
       "    <tr>\n",
       "      <th id=\"T_00ea4_level1_row1\" class=\"row_heading level1 row1\" >1</th>\n",
       "      <td id=\"T_00ea4_row1_col0\" class=\"data row1 col0\" >91</td>\n",
       "      <td id=\"T_00ea4_row1_col1\" class=\"data row1 col1\" >70</td>\n",
       "      <td id=\"T_00ea4_row1_col2\" class=\"data row1 col2\" >72</td>\n",
       "      <td id=\"T_00ea4_row1_col3\" class=\"data row1 col3\" >233</td>\n",
       "    </tr>\n",
       "    <tr>\n",
       "      <th id=\"T_00ea4_level0_row2\" class=\"row_heading level0 row2\" rowspan=\"2\">male</th>\n",
       "      <th id=\"T_00ea4_level1_row2\" class=\"row_heading level1 row2\" >0</th>\n",
       "      <td id=\"T_00ea4_row2_col0\" class=\"data row2 col0\" >77</td>\n",
       "      <td id=\"T_00ea4_row2_col1\" class=\"data row2 col1\" >91</td>\n",
       "      <td id=\"T_00ea4_row2_col2\" class=\"data row2 col2\" >300</td>\n",
       "      <td id=\"T_00ea4_row2_col3\" class=\"data row2 col3\" >468</td>\n",
       "    </tr>\n",
       "    <tr>\n",
       "      <th id=\"T_00ea4_level1_row3\" class=\"row_heading level1 row3\" >1</th>\n",
       "      <td id=\"T_00ea4_row3_col0\" class=\"data row3 col0\" >45</td>\n",
       "      <td id=\"T_00ea4_row3_col1\" class=\"data row3 col1\" >17</td>\n",
       "      <td id=\"T_00ea4_row3_col2\" class=\"data row3 col2\" >47</td>\n",
       "      <td id=\"T_00ea4_row3_col3\" class=\"data row3 col3\" >109</td>\n",
       "    </tr>\n",
       "    <tr>\n",
       "      <th id=\"T_00ea4_level0_row4\" class=\"row_heading level0 row4\" >All</th>\n",
       "      <th id=\"T_00ea4_level1_row4\" class=\"row_heading level1 row4\" ></th>\n",
       "      <td id=\"T_00ea4_row4_col0\" class=\"data row4 col0\" >216</td>\n",
       "      <td id=\"T_00ea4_row4_col1\" class=\"data row4 col1\" >184</td>\n",
       "      <td id=\"T_00ea4_row4_col2\" class=\"data row4 col2\" >491</td>\n",
       "      <td id=\"T_00ea4_row4_col3\" class=\"data row4 col3\" >891</td>\n",
       "    </tr>\n",
       "  </tbody>\n",
       "</table>\n"
      ],
      "text/plain": [
       "<pandas.io.formats.style.Styler at 0x7f54d09827d0>"
      ]
     },
     "execution_count": 10,
     "metadata": {},
     "output_type": "execute_result"
    }
   ],
   "source": [
    "pd.crosstab([data.Sex, data.Survived], data.Pclass, margins=True).style.background_gradient(cmap='summer_r')"
   ]
  },
  {
   "cell_type": "code",
   "execution_count": 11,
   "id": "c3aa856f",
   "metadata": {
    "execution": {
     "iopub.execute_input": "2022-07-10T05:41:00.245163Z",
     "iopub.status.busy": "2022-07-10T05:41:00.244421Z",
     "iopub.status.idle": "2022-07-10T05:41:00.719042Z",
     "shell.execute_reply": "2022-07-10T05:41:00.717717Z"
    },
    "papermill": {
     "duration": 0.488803,
     "end_time": "2022-07-10T05:41:00.721696",
     "exception": false,
     "start_time": "2022-07-10T05:41:00.232893",
     "status": "completed"
    },
    "tags": []
   },
   "outputs": [
    {
     "data": {
      "image/png": "[encoded data removed]",
      "text/plain": [
       "<Figure size 430.5x360 with 1 Axes>"
      ]
     },
     "metadata": {
      "needs_background": "light"
     },
     "output_type": "display_data"
    }
   ],
   "source": [
    "sns.factorplot('Pclass', 'Survived', hue='Sex', data=data)\n",
    "plt.show()"
   ]
  },
  {
   "cell_type": "markdown",
   "id": "9d054478",
   "metadata": {
    "papermill": {
     "duration": 0.009998,
     "end_time": "2022-07-10T05:41:00.742748",
     "exception": false,
     "start_time": "2022-07-10T05:41:00.732750",
     "status": "completed"
    },
    "tags": []
   },
   "source": [
    "We use **FactorPlot** in this case, because they make the seperation of categorical values easy.\n",
    "\n",
    "Looking at the **CrossTab** and the **FactorPlot**, we can easily infer(추론) that survival for **Women from Pclass1** is about **95-96%**, as only 3 out of 94 Women from Pclass1 died.\n",
    "\n",
    "It is evident that irrespective of Pclass, Women were given first priority while rescue. Even Men from Pclass1 have a very low survival rate.\n",
    "\n",
    "Looks like Pclass is also an important feature. Lets analyse other features."
   ]
  },
  {
   "cell_type": "markdown",
   "id": "41987252",
   "metadata": {
    "papermill": {
     "duration": 0.009925,
     "end_time": "2022-07-10T05:41:00.763037",
     "exception": false,
     "start_time": "2022-07-10T05:41:00.753112",
     "status": "completed"
    },
    "tags": []
   },
   "source": [
    "## Age --> Continous Feature"
   ]
  },
  {
   "cell_type": "code",
   "execution_count": 12,
   "id": "9a6caed6",
   "metadata": {
    "execution": {
     "iopub.execute_input": "2022-07-10T05:41:00.785681Z",
     "iopub.status.busy": "2022-07-10T05:41:00.785016Z",
     "iopub.status.idle": "2022-07-10T05:41:00.792079Z",
     "shell.execute_reply": "2022-07-10T05:41:00.790769Z"
    },
    "papermill": {
     "duration": 0.02117,
     "end_time": "2022-07-10T05:41:00.794416",
     "exception": false,
     "start_time": "2022-07-10T05:41:00.773246",
     "status": "completed"
    },
    "tags": []
   },
   "outputs": [
    {
     "name": "stdout",
     "output_type": "stream",
     "text": [
      "Oldest Passenger was of: 80.0 Years\n",
      "Youngest Passenger was of: 0.42 Years\n",
      "Average Age on the ship: 29.69911764705882 Years\n"
     ]
    }
   ],
   "source": [
    "print('Oldest Passenger was of:', data['Age'].max(), 'Years')\n",
    "print('Youngest Passenger was of:', data['Age'].min(), 'Years')\n",
    "print('Average Age on the ship:', data['Age'].mean(), 'Years')"
   ]
  },
  {
   "cell_type": "code",
   "execution_count": 13,
   "id": "6466db6c",
   "metadata": {
    "execution": {
     "iopub.execute_input": "2022-07-10T05:41:00.817845Z",
     "iopub.status.busy": "2022-07-10T05:41:00.817143Z",
     "iopub.status.idle": "2022-07-10T05:41:01.277439Z",
     "shell.execute_reply": "2022-07-10T05:41:01.276544Z"
    },
    "papermill": {
     "duration": 0.474919,
     "end_time": "2022-07-10T05:41:01.279683",
     "exception": false,
     "start_time": "2022-07-10T05:41:00.804764",
     "status": "completed"
    },
    "tags": []
   },
   "outputs": [
    {
     "data": {
      "image/png": "[encoded data removed]",
      "text/plain": [
       "<Figure size 1296x576 with 2 Axes>"
      ]
     },
     "metadata": {
      "needs_background": "light"
     },
     "output_type": "display_data"
    }
   ],
   "source": [
    "f, ax=plt.subplots(1,2,figsize=(18,8))\n",
    "sns.violinplot('Pclass','Age', hue='Survived', data=data, split=True, ax=ax[0])\n",
    "ax[0].set_title('Pclass and Age vs Survived')\n",
    "ax[0].set_yticks(range(0,110,10))\n",
    "sns.violinplot('Sex', 'Age', hue='Survived', data=data, split=True, ax=ax[1])\n",
    "ax[1].set_title('Sex and Age vs Survived')\n",
    "ax[1].set_yticks(range(0,110,10))\n",
    "plt.show()"
   ]
  },
  {
   "cell_type": "markdown",
   "id": "8d67a008",
   "metadata": {
    "papermill": {
     "duration": 0.011933,
     "end_time": "2022-07-10T05:41:01.304161",
     "exception": false,
     "start_time": "2022-07-10T05:41:01.292228",
     "status": "completed"
    },
    "tags": []
   },
   "source": [
    "### Observations:\n",
    "\n",
    "1) The number of children increases with Pclass and the survival rate for passengers below Age 10(i.e children) looks to be good irrespective of the Pclass.\n",
    "\n",
    "2) Survival chances for Passengers aged 20-50 from Pclass1 is high and is even better for Women.\n",
    "\n",
    "3) For males, the survival chances decreases with an inrease in age.\n",
    "\n",
    "As we had seen earlier, the Age feature has **177** null values. To replace these NaN values, we can assign them the mean age of the dataset.\n",
    "\n",
    "But the problem is, there were many people with many different ages. We just cant assign a 4year kid with the mean age that is 29 years. Is there any way to find out what age-band does the passenger lie??\n",
    "\n",
    "**Bingo!!!**, we can check the **Name** feature. Looking upon the feature, we can see that the names have a salutation like Mr or Mrs. Thus we can assign the mean values of Mr and Mrs to the respective groups.\n",
    "\n",
    "**\"What's In A Name??\" --> Feature**"
   ]
  },
  {
   "cell_type": "code",
   "execution_count": 14,
   "id": "46545b1e",
   "metadata": {
    "execution": {
     "iopub.execute_input": "2022-07-10T05:41:01.330455Z",
     "iopub.status.busy": "2022-07-10T05:41:01.329276Z",
     "iopub.status.idle": "2022-07-10T05:41:01.371069Z",
     "shell.execute_reply": "2022-07-10T05:41:01.369916Z"
    },
    "papermill": {
     "duration": 0.057555,
     "end_time": "2022-07-10T05:41:01.373464",
     "exception": false,
     "start_time": "2022-07-10T05:41:01.315909",
     "status": "completed"
    },
    "tags": []
   },
   "outputs": [],
   "source": [
    "data['Initial']=0\n",
    "for i in data:\n",
    "    data['Initial']=data.Name.str.extract('([A-Za-z]+)\\.') \n"
   ]
  },
  {
   "cell_type": "markdown",
   "id": "7fd04430",
   "metadata": {
    "papermill": {
     "duration": 0.011227,
     "end_time": "2022-07-10T05:41:01.396262",
     "exception": false,
     "start_time": "2022-07-10T05:41:01.385035",
     "status": "completed"
    },
    "tags": []
   },
   "source": [
    "Okay so here we are using the Regex : [A-Za-z]+).. So what it does is, it looks for strings which lie between A-Z or a-z and followed by a .(dot). So we successfully extract the initials from the Name."
   ]
  },
  {
   "cell_type": "code",
   "execution_count": 15,
   "id": "ff66f40d",
   "metadata": {
    "execution": {
     "iopub.execute_input": "2022-07-10T05:41:01.421450Z",
     "iopub.status.busy": "2022-07-10T05:41:01.420540Z",
     "iopub.status.idle": "2022-07-10T05:41:01.465992Z",
     "shell.execute_reply": "2022-07-10T05:41:01.464724Z"
    },
    "papermill": {
     "duration": 0.060649,
     "end_time": "2022-07-10T05:41:01.468436",
     "exception": false,
     "start_time": "2022-07-10T05:41:01.407787",
     "status": "completed"
    },
    "tags": []
   },
   "outputs": [
    {
     "data": {
      "text/html": [
       "<style type=\"text/css\">\n",
       "#T_b6773_row0_col0, #T_b6773_row0_col1, #T_b6773_row0_col3, #T_b6773_row0_col4, #T_b6773_row0_col5, #T_b6773_row0_col7, #T_b6773_row0_col8, #T_b6773_row0_col12, #T_b6773_row0_col15, #T_b6773_row0_col16, #T_b6773_row1_col2, #T_b6773_row1_col6, #T_b6773_row1_col9, #T_b6773_row1_col10, #T_b6773_row1_col11, #T_b6773_row1_col13, #T_b6773_row1_col14 {\n",
       "  background-color: #ffff66;\n",
       "  color: #000000;\n",
       "}\n",
       "#T_b6773_row0_col2, #T_b6773_row0_col6, #T_b6773_row0_col9, #T_b6773_row0_col10, #T_b6773_row0_col11, #T_b6773_row0_col13, #T_b6773_row0_col14, #T_b6773_row1_col0, #T_b6773_row1_col1, #T_b6773_row1_col3, #T_b6773_row1_col4, #T_b6773_row1_col5, #T_b6773_row1_col7, #T_b6773_row1_col8, #T_b6773_row1_col12, #T_b6773_row1_col15, #T_b6773_row1_col16 {\n",
       "  background-color: #008066;\n",
       "  color: #f1f1f1;\n",
       "}\n",
       "</style>\n",
       "<table id=\"T_b6773_\">\n",
       "  <thead>\n",
       "    <tr>\n",
       "      <th class=\"index_name level0\" >Initial</th>\n",
       "      <th class=\"col_heading level0 col0\" >Capt</th>\n",
       "      <th class=\"col_heading level0 col1\" >Col</th>\n",
       "      <th class=\"col_heading level0 col2\" >Countess</th>\n",
       "      <th class=\"col_heading level0 col3\" >Don</th>\n",
       "      <th class=\"col_heading level0 col4\" >Dr</th>\n",
       "      <th class=\"col_heading level0 col5\" >Jonkheer</th>\n",
       "      <th class=\"col_heading level0 col6\" >Lady</th>\n",
       "      <th class=\"col_heading level0 col7\" >Major</th>\n",
       "      <th class=\"col_heading level0 col8\" >Master</th>\n",
       "      <th class=\"col_heading level0 col9\" >Miss</th>\n",
       "      <th class=\"col_heading level0 col10\" >Mlle</th>\n",
       "      <th class=\"col_heading level0 col11\" >Mme</th>\n",
       "      <th class=\"col_heading level0 col12\" >Mr</th>\n",
       "      <th class=\"col_heading level0 col13\" >Mrs</th>\n",
       "      <th class=\"col_heading level0 col14\" >Ms</th>\n",
       "      <th class=\"col_heading level0 col15\" >Rev</th>\n",
       "      <th class=\"col_heading level0 col16\" >Sir</th>\n",
       "    </tr>\n",
       "    <tr>\n",
       "      <th class=\"index_name level0\" >Sex</th>\n",
       "      <th class=\"blank col0\" >&nbsp;</th>\n",
       "      <th class=\"blank col1\" >&nbsp;</th>\n",
       "      <th class=\"blank col2\" >&nbsp;</th>\n",
       "      <th class=\"blank col3\" >&nbsp;</th>\n",
       "      <th class=\"blank col4\" >&nbsp;</th>\n",
       "      <th class=\"blank col5\" >&nbsp;</th>\n",
       "      <th class=\"blank col6\" >&nbsp;</th>\n",
       "      <th class=\"blank col7\" >&nbsp;</th>\n",
       "      <th class=\"blank col8\" >&nbsp;</th>\n",
       "      <th class=\"blank col9\" >&nbsp;</th>\n",
       "      <th class=\"blank col10\" >&nbsp;</th>\n",
       "      <th class=\"blank col11\" >&nbsp;</th>\n",
       "      <th class=\"blank col12\" >&nbsp;</th>\n",
       "      <th class=\"blank col13\" >&nbsp;</th>\n",
       "      <th class=\"blank col14\" >&nbsp;</th>\n",
       "      <th class=\"blank col15\" >&nbsp;</th>\n",
       "      <th class=\"blank col16\" >&nbsp;</th>\n",
       "    </tr>\n",
       "  </thead>\n",
       "  <tbody>\n",
       "    <tr>\n",
       "      <th id=\"T_b6773_level0_row0\" class=\"row_heading level0 row0\" >female</th>\n",
       "      <td id=\"T_b6773_row0_col0\" class=\"data row0 col0\" >0</td>\n",
       "      <td id=\"T_b6773_row0_col1\" class=\"data row0 col1\" >0</td>\n",
       "      <td id=\"T_b6773_row0_col2\" class=\"data row0 col2\" >1</td>\n",
       "      <td id=\"T_b6773_row0_col3\" class=\"data row0 col3\" >0</td>\n",
       "      <td id=\"T_b6773_row0_col4\" class=\"data row0 col4\" >1</td>\n",
       "      <td id=\"T_b6773_row0_col5\" class=\"data row0 col5\" >0</td>\n",
       "      <td id=\"T_b6773_row0_col6\" class=\"data row0 col6\" >1</td>\n",
       "      <td id=\"T_b6773_row0_col7\" class=\"data row0 col7\" >0</td>\n",
       "      <td id=\"T_b6773_row0_col8\" class=\"data row0 col8\" >0</td>\n",
       "      <td id=\"T_b6773_row0_col9\" class=\"data row0 col9\" >182</td>\n",
       "      <td id=\"T_b6773_row0_col10\" class=\"data row0 col10\" >2</td>\n",
       "      <td id=\"T_b6773_row0_col11\" class=\"data row0 col11\" >1</td>\n",
       "      <td id=\"T_b6773_row0_col12\" class=\"data row0 col12\" >0</td>\n",
       "      <td id=\"T_b6773_row0_col13\" class=\"data row0 col13\" >125</td>\n",
       "      <td id=\"T_b6773_row0_col14\" class=\"data row0 col14\" >1</td>\n",
       "      <td id=\"T_b6773_row0_col15\" class=\"data row0 col15\" >0</td>\n",
       "      <td id=\"T_b6773_row0_col16\" class=\"data row0 col16\" >0</td>\n",
       "    </tr>\n",
       "    <tr>\n",
       "      <th id=\"T_b6773_level0_row1\" class=\"row_heading level0 row1\" >male</th>\n",
       "      <td id=\"T_b6773_row1_col0\" class=\"data row1 col0\" >1</td>\n",
       "      <td id=\"T_b6773_row1_col1\" class=\"data row1 col1\" >2</td>\n",
       "      <td id=\"T_b6773_row1_col2\" class=\"data row1 col2\" >0</td>\n",
       "      <td id=\"T_b6773_row1_col3\" class=\"data row1 col3\" >1</td>\n",
       "      <td id=\"T_b6773_row1_col4\" class=\"data row1 col4\" >6</td>\n",
       "      <td id=\"T_b6773_row1_col5\" class=\"data row1 col5\" >1</td>\n",
       "      <td id=\"T_b6773_row1_col6\" class=\"data row1 col6\" >0</td>\n",
       "      <td id=\"T_b6773_row1_col7\" class=\"data row1 col7\" >2</td>\n",
       "      <td id=\"T_b6773_row1_col8\" class=\"data row1 col8\" >40</td>\n",
       "      <td id=\"T_b6773_row1_col9\" class=\"data row1 col9\" >0</td>\n",
       "      <td id=\"T_b6773_row1_col10\" class=\"data row1 col10\" >0</td>\n",
       "      <td id=\"T_b6773_row1_col11\" class=\"data row1 col11\" >0</td>\n",
       "      <td id=\"T_b6773_row1_col12\" class=\"data row1 col12\" >517</td>\n",
       "      <td id=\"T_b6773_row1_col13\" class=\"data row1 col13\" >0</td>\n",
       "      <td id=\"T_b6773_row1_col14\" class=\"data row1 col14\" >0</td>\n",
       "      <td id=\"T_b6773_row1_col15\" class=\"data row1 col15\" >6</td>\n",
       "      <td id=\"T_b6773_row1_col16\" class=\"data row1 col16\" >1</td>\n",
       "    </tr>\n",
       "  </tbody>\n",
       "</table>\n"
      ],
      "text/plain": [
       "<pandas.io.formats.style.Styler at 0x7f54d07e1fd0>"
      ]
     },
     "execution_count": 15,
     "metadata": {},
     "output_type": "execute_result"
    }
   ],
   "source": [
    "pd.crosstab(data.Initial, data.Sex).T.style.background_gradient(cmap='summer_r')\n"
   ]
  },
  {
   "cell_type": "markdown",
   "id": "a5bda2d6",
   "metadata": {
    "papermill": {
     "duration": 0.011466,
     "end_time": "2022-07-10T05:41:01.491755",
     "exception": false,
     "start_time": "2022-07-10T05:41:01.480289",
     "status": "completed"
    },
    "tags": []
   },
   "source": [
    "Okay so there are some misspelled initials like Mlle or Mme that stand for Miss. I will replace them with Miss and same thing for other values."
   ]
  },
  {
   "cell_type": "code",
   "execution_count": 16,
   "id": "794d9a33",
   "metadata": {
    "execution": {
     "iopub.execute_input": "2022-07-10T05:41:01.517332Z",
     "iopub.status.busy": "2022-07-10T05:41:01.516525Z",
     "iopub.status.idle": "2022-07-10T05:41:01.525753Z",
     "shell.execute_reply": "2022-07-10T05:41:01.524576Z"
    },
    "papermill": {
     "duration": 0.02469,
     "end_time": "2022-07-10T05:41:01.528102",
     "exception": false,
     "start_time": "2022-07-10T05:41:01.503412",
     "status": "completed"
    },
    "tags": []
   },
   "outputs": [],
   "source": [
    "data['Initial'].replace(['Mlle', 'Mme','Ms','Dr','Major','Lady','Countess','Jonkheer','Col','Rev','Capt','Sir','Don'],['Miss','Miss','Miss','Mr','Mr','Mrs','Mrs','Other','Other','Other','Mr','Mr','Mr'], inplace=True)"
   ]
  },
  {
   "cell_type": "code",
   "execution_count": 17,
   "id": "e449e597",
   "metadata": {
    "execution": {
     "iopub.execute_input": "2022-07-10T05:41:01.555196Z",
     "iopub.status.busy": "2022-07-10T05:41:01.554499Z",
     "iopub.status.idle": "2022-07-10T05:41:01.564149Z",
     "shell.execute_reply": "2022-07-10T05:41:01.562974Z"
    },
    "papermill": {
     "duration": 0.026228,
     "end_time": "2022-07-10T05:41:01.566238",
     "exception": false,
     "start_time": "2022-07-10T05:41:01.540010",
     "status": "completed"
    },
    "tags": []
   },
   "outputs": [
    {
     "data": {
      "text/plain": [
       "Initial\n",
       "Master     4.574167\n",
       "Miss      21.860000\n",
       "Mr        32.739609\n",
       "Mrs       35.981818\n",
       "Other     45.888889\n",
       "Name: Age, dtype: float64"
      ]
     },
     "execution_count": 17,
     "metadata": {},
     "output_type": "execute_result"
    }
   ],
   "source": [
    "data.groupby('Initial')['Age'].mean()"
   ]
  },
  {
   "cell_type": "markdown",
   "id": "5cfc314e",
   "metadata": {
    "papermill": {
     "duration": 0.011659,
     "end_time": "2022-07-10T05:41:01.589705",
     "exception": false,
     "start_time": "2022-07-10T05:41:01.578046",
     "status": "completed"
    },
    "tags": []
   },
   "source": [
    "## Filling NaN Ages"
   ]
  },
  {
   "cell_type": "code",
   "execution_count": 18,
   "id": "20e7927c",
   "metadata": {
    "execution": {
     "iopub.execute_input": "2022-07-10T05:41:01.616353Z",
     "iopub.status.busy": "2022-07-10T05:41:01.615991Z",
     "iopub.status.idle": "2022-07-10T05:41:01.627574Z",
     "shell.execute_reply": "2022-07-10T05:41:01.626371Z"
    },
    "papermill": {
     "duration": 0.027888,
     "end_time": "2022-07-10T05:41:01.629621",
     "exception": false,
     "start_time": "2022-07-10T05:41:01.601733",
     "status": "completed"
    },
    "tags": []
   },
   "outputs": [],
   "source": [
    "data.loc[(data.Age.isnull())&(data.Initial==\"Mr\"), 'Age']=33\n",
    "data.loc[(data.Age.isnull())&(data.Initial=='Mrs'),'Age']=36\n",
    "data.loc[(data.Age.isnull())&(data.Initial=='Master'),'Age']=5\n",
    "data.loc[(data.Age.isnull())&(data.Initial=='Miss'),'Age']=22\n",
    "data.loc[(data.Age.isnull())&(data.Initial=='Other'),'Age']=46"
   ]
  },
  {
   "cell_type": "code",
   "execution_count": 19,
   "id": "49bdedbf",
   "metadata": {
    "execution": {
     "iopub.execute_input": "2022-07-10T05:41:01.655224Z",
     "iopub.status.busy": "2022-07-10T05:41:01.654822Z",
     "iopub.status.idle": "2022-07-10T05:41:01.661998Z",
     "shell.execute_reply": "2022-07-10T05:41:01.660826Z"
    },
    "papermill": {
     "duration": 0.02276,
     "end_time": "2022-07-10T05:41:01.664232",
     "exception": false,
     "start_time": "2022-07-10T05:41:01.641472",
     "status": "completed"
    },
    "tags": []
   },
   "outputs": [
    {
     "data": {
      "text/plain": [
       "False"
      ]
     },
     "execution_count": 19,
     "metadata": {},
     "output_type": "execute_result"
    }
   ],
   "source": [
    "data.Age.isnull().any() #no null data is left"
   ]
  },
  {
   "cell_type": "code",
   "execution_count": 20,
   "id": "0b16b5d3",
   "metadata": {
    "execution": {
     "iopub.execute_input": "2022-07-10T05:41:01.690326Z",
     "iopub.status.busy": "2022-07-10T05:41:01.689922Z",
     "iopub.status.idle": "2022-07-10T05:41:02.112212Z",
     "shell.execute_reply": "2022-07-10T05:41:02.111125Z"
    },
    "papermill": {
     "duration": 0.438352,
     "end_time": "2022-07-10T05:41:02.114902",
     "exception": false,
     "start_time": "2022-07-10T05:41:01.676550",
     "status": "completed"
    },
    "tags": []
   },
   "outputs": [
    {
     "data": {
      "image/png": "[encoded data removed]",
      "text/plain": [
       "<Figure size 1296x576 with 2 Axes>"
      ]
     },
     "metadata": {
      "needs_background": "light"
     },
     "output_type": "display_data"
    }
   ],
   "source": [
    "f, ax=plt.subplots(1,2,figsize=(18,8))\n",
    "data[data['Survived']==0].Age.plot.hist(ax=ax[0], bins=20, edgecolor='black', color='red')\n",
    "ax[0].set_title('Survived= 0')\n",
    "x1 = list(range(0,85,5))\n",
    "ax[0].set_xticks(x1)\n",
    "data[data['Survived']==1].Age.plot.hist(ax=ax[1], bins=20, edgecolor='black', color='green')\n",
    "x2 = list(range(0,85,5))\n",
    "ax[1].set_xticks(x2)\n",
    "plt.show()"
   ]
  },
  {
   "cell_type": "markdown",
   "id": "388b84ab",
   "metadata": {
    "papermill": {
     "duration": 0.012253,
     "end_time": "2022-07-10T05:41:02.139462",
     "exception": false,
     "start_time": "2022-07-10T05:41:02.127209",
     "status": "completed"
    },
    "tags": []
   },
   "source": [
    "Observations:\n",
    "\n",
    "1) The Toddlers(age<5) were waved in large numbers(The Women and Child First Policy).\n",
    "\n",
    "2) The oldest Passenger was saved(80 years old).\n",
    "\n",
    "3) Maximum number of deaths were in the age group of 30-40."
   ]
  },
  {
   "cell_type": "code",
   "execution_count": 21,
   "id": "3559370f",
   "metadata": {
    "execution": {
     "iopub.execute_input": "2022-07-10T05:41:02.166840Z",
     "iopub.status.busy": "2022-07-10T05:41:02.166251Z",
     "iopub.status.idle": "2022-07-10T05:41:03.257957Z",
     "shell.execute_reply": "2022-07-10T05:41:03.256755Z"
    },
    "papermill": {
     "duration": 1.108222,
     "end_time": "2022-07-10T05:41:03.260222",
     "exception": false,
     "start_time": "2022-07-10T05:41:02.152000",
     "status": "completed"
    },
    "tags": []
   },
   "outputs": [
    {
     "data": {
      "image/png": "[encoded data removed]",
      "text/plain": [
       "<Figure size 1800x360 with 5 Axes>"
      ]
     },
     "metadata": {
      "needs_background": "light"
     },
     "output_type": "display_data"
    }
   ],
   "source": [
    "sns.factorplot('Pclass', 'Survived', col='Initial', data=data)\n",
    "plt.show()"
   ]
  },
  {
   "cell_type": "markdown",
   "id": "94953550",
   "metadata": {
    "papermill": {
     "duration": 0.03063,
     "end_time": "2022-07-10T05:41:03.304076",
     "exception": false,
     "start_time": "2022-07-10T05:41:03.273446",
     "status": "completed"
    },
    "tags": []
   },
   "source": [
    "The Women and Child first policy thus holds true irrespective of the class."
   ]
  },
  {
   "cell_type": "markdown",
   "id": "8cdca1dc",
   "metadata": {
    "papermill": {
     "duration": 0.012627,
     "end_time": "2022-07-10T05:41:03.329899",
     "exception": false,
     "start_time": "2022-07-10T05:41:03.317272",
     "status": "completed"
    },
    "tags": []
   },
   "source": [
    "## Embarked --> Categorical Value"
   ]
  },
  {
   "cell_type": "code",
   "execution_count": 22,
   "id": "d4f6e8bb",
   "metadata": {
    "execution": {
     "iopub.execute_input": "2022-07-10T05:41:03.358297Z",
     "iopub.status.busy": "2022-07-10T05:41:03.357495Z",
     "iopub.status.idle": "2022-07-10T05:41:03.425171Z",
     "shell.execute_reply": "2022-07-10T05:41:03.423901Z"
    },
    "papermill": {
     "duration": 0.08459,
     "end_time": "2022-07-10T05:41:03.427506",
     "exception": false,
     "start_time": "2022-07-10T05:41:03.342916",
     "status": "completed"
    },
    "tags": []
   },
   "outputs": [
    {
     "data": {
      "text/html": [
       "<style type=\"text/css\">\n",
       "#T_048ef_row0_col0, #T_048ef_row1_col2 {\n",
       "  background-color: #fcfe66;\n",
       "  color: #000000;\n",
       "}\n",
       "#T_048ef_row0_col1 {\n",
       "  background-color: #d2e866;\n",
       "  color: #000000;\n",
       "}\n",
       "#T_048ef_row0_col2 {\n",
       "  background-color: #f2f866;\n",
       "  color: #000000;\n",
       "}\n",
       "#T_048ef_row0_col3 {\n",
       "  background-color: #d8ec66;\n",
       "  color: #000000;\n",
       "}\n",
       "#T_048ef_row0_col4, #T_048ef_row2_col3 {\n",
       "  background-color: #e8f466;\n",
       "  color: #000000;\n",
       "}\n",
       "#T_048ef_row1_col0, #T_048ef_row3_col0, #T_048ef_row3_col1, #T_048ef_row3_col2, #T_048ef_row3_col3, #T_048ef_row3_col4, #T_048ef_row4_col0, #T_048ef_row4_col2, #T_048ef_row4_col3, #T_048ef_row4_col4 {\n",
       "  background-color: #ffff66;\n",
       "  color: #000000;\n",
       "}\n",
       "#T_048ef_row1_col1, #T_048ef_row6_col0 {\n",
       "  background-color: #f9fc66;\n",
       "  color: #000000;\n",
       "}\n",
       "#T_048ef_row1_col3, #T_048ef_row1_col4 {\n",
       "  background-color: #fbfd66;\n",
       "  color: #000000;\n",
       "}\n",
       "#T_048ef_row2_col0, #T_048ef_row5_col1 {\n",
       "  background-color: #e6f266;\n",
       "  color: #000000;\n",
       "}\n",
       "#T_048ef_row2_col1 {\n",
       "  background-color: #f0f866;\n",
       "  color: #000000;\n",
       "}\n",
       "#T_048ef_row2_col2 {\n",
       "  background-color: #eef666;\n",
       "  color: #000000;\n",
       "}\n",
       "#T_048ef_row2_col4, #T_048ef_row7_col0 {\n",
       "  background-color: #edf666;\n",
       "  color: #000000;\n",
       "}\n",
       "#T_048ef_row4_col1 {\n",
       "  background-color: #fefe66;\n",
       "  color: #000000;\n",
       "}\n",
       "#T_048ef_row5_col0 {\n",
       "  background-color: #e3f166;\n",
       "  color: #000000;\n",
       "}\n",
       "#T_048ef_row5_col2 {\n",
       "  background-color: #ecf666;\n",
       "  color: #000000;\n",
       "}\n",
       "#T_048ef_row5_col3 {\n",
       "  background-color: #f8fc66;\n",
       "  color: #000000;\n",
       "}\n",
       "#T_048ef_row5_col4 {\n",
       "  background-color: #ebf566;\n",
       "  color: #000000;\n",
       "}\n",
       "#T_048ef_row6_col1 {\n",
       "  background-color: #cde666;\n",
       "  color: #000000;\n",
       "}\n",
       "#T_048ef_row6_col2 {\n",
       "  background-color: #e4f266;\n",
       "  color: #000000;\n",
       "}\n",
       "#T_048ef_row6_col3 {\n",
       "  background-color: #bede66;\n",
       "  color: #000000;\n",
       "}\n",
       "#T_048ef_row6_col4 {\n",
       "  background-color: #dbed66;\n",
       "  color: #000000;\n",
       "}\n",
       "#T_048ef_row7_col1 {\n",
       "  background-color: #bdde66;\n",
       "  color: #000000;\n",
       "}\n",
       "#T_048ef_row7_col2 {\n",
       "  background-color: #d3e966;\n",
       "  color: #000000;\n",
       "}\n",
       "#T_048ef_row7_col3, #T_048ef_row8_col1 {\n",
       "  background-color: #dcee66;\n",
       "  color: #000000;\n",
       "}\n",
       "#T_048ef_row7_col4 {\n",
       "  background-color: #d1e866;\n",
       "  color: #000000;\n",
       "}\n",
       "#T_048ef_row8_col0 {\n",
       "  background-color: #52a866;\n",
       "  color: #f1f1f1;\n",
       "}\n",
       "#T_048ef_row8_col2 {\n",
       "  background-color: #81c066;\n",
       "  color: #000000;\n",
       "}\n",
       "#T_048ef_row8_col3 {\n",
       "  background-color: #b0d866;\n",
       "  color: #000000;\n",
       "}\n",
       "#T_048ef_row8_col4 {\n",
       "  background-color: #9acc66;\n",
       "  color: #000000;\n",
       "}\n",
       "#T_048ef_row9_col0, #T_048ef_row9_col1, #T_048ef_row9_col2, #T_048ef_row9_col3, #T_048ef_row9_col4 {\n",
       "  background-color: #008066;\n",
       "  color: #f1f1f1;\n",
       "}\n",
       "</style>\n",
       "<table id=\"T_048ef_\">\n",
       "  <thead>\n",
       "    <tr>\n",
       "      <th class=\"blank\" >&nbsp;</th>\n",
       "      <th class=\"index_name level0\" >Sex</th>\n",
       "      <th class=\"col_heading level0 col0\" colspan=\"2\">female</th>\n",
       "      <th class=\"col_heading level0 col2\" colspan=\"2\">male</th>\n",
       "      <th class=\"col_heading level0 col4\" >All</th>\n",
       "    </tr>\n",
       "    <tr>\n",
       "      <th class=\"blank\" >&nbsp;</th>\n",
       "      <th class=\"index_name level1\" >Survived</th>\n",
       "      <th class=\"col_heading level1 col0\" >0</th>\n",
       "      <th class=\"col_heading level1 col1\" >1</th>\n",
       "      <th class=\"col_heading level1 col2\" >0</th>\n",
       "      <th class=\"col_heading level1 col3\" >1</th>\n",
       "      <th class=\"col_heading level1 col4\" ></th>\n",
       "    </tr>\n",
       "    <tr>\n",
       "      <th class=\"index_name level0\" >Embarked</th>\n",
       "      <th class=\"index_name level1\" >Pclass</th>\n",
       "      <th class=\"blank col0\" >&nbsp;</th>\n",
       "      <th class=\"blank col1\" >&nbsp;</th>\n",
       "      <th class=\"blank col2\" >&nbsp;</th>\n",
       "      <th class=\"blank col3\" >&nbsp;</th>\n",
       "      <th class=\"blank col4\" >&nbsp;</th>\n",
       "    </tr>\n",
       "  </thead>\n",
       "  <tbody>\n",
       "    <tr>\n",
       "      <th id=\"T_048ef_level0_row0\" class=\"row_heading level0 row0\" rowspan=\"3\">C</th>\n",
       "      <th id=\"T_048ef_level1_row0\" class=\"row_heading level1 row0\" >1</th>\n",
       "      <td id=\"T_048ef_row0_col0\" class=\"data row0 col0\" >1</td>\n",
       "      <td id=\"T_048ef_row0_col1\" class=\"data row0 col1\" >42</td>\n",
       "      <td id=\"T_048ef_row0_col2\" class=\"data row0 col2\" >25</td>\n",
       "      <td id=\"T_048ef_row0_col3\" class=\"data row0 col3\" >17</td>\n",
       "      <td id=\"T_048ef_row0_col4\" class=\"data row0 col4\" >85</td>\n",
       "    </tr>\n",
       "    <tr>\n",
       "      <th id=\"T_048ef_level1_row1\" class=\"row_heading level1 row1\" >2</th>\n",
       "      <td id=\"T_048ef_row1_col0\" class=\"data row1 col0\" >0</td>\n",
       "      <td id=\"T_048ef_row1_col1\" class=\"data row1 col1\" >7</td>\n",
       "      <td id=\"T_048ef_row1_col2\" class=\"data row1 col2\" >8</td>\n",
       "      <td id=\"T_048ef_row1_col3\" class=\"data row1 col3\" >2</td>\n",
       "      <td id=\"T_048ef_row1_col4\" class=\"data row1 col4\" >17</td>\n",
       "    </tr>\n",
       "    <tr>\n",
       "      <th id=\"T_048ef_level1_row2\" class=\"row_heading level1 row2\" >3</th>\n",
       "      <td id=\"T_048ef_row2_col0\" class=\"data row2 col0\" >8</td>\n",
       "      <td id=\"T_048ef_row2_col1\" class=\"data row2 col1\" >15</td>\n",
       "      <td id=\"T_048ef_row2_col2\" class=\"data row2 col2\" >33</td>\n",
       "      <td id=\"T_048ef_row2_col3\" class=\"data row2 col3\" >10</td>\n",
       "      <td id=\"T_048ef_row2_col4\" class=\"data row2 col4\" >66</td>\n",
       "    </tr>\n",
       "    <tr>\n",
       "      <th id=\"T_048ef_level0_row3\" class=\"row_heading level0 row3\" rowspan=\"3\">Q</th>\n",
       "      <th id=\"T_048ef_level1_row3\" class=\"row_heading level1 row3\" >1</th>\n",
       "      <td id=\"T_048ef_row3_col0\" class=\"data row3 col0\" >0</td>\n",
       "      <td id=\"T_048ef_row3_col1\" class=\"data row3 col1\" >1</td>\n",
       "      <td id=\"T_048ef_row3_col2\" class=\"data row3 col2\" >1</td>\n",
       "      <td id=\"T_048ef_row3_col3\" class=\"data row3 col3\" >0</td>\n",
       "      <td id=\"T_048ef_row3_col4\" class=\"data row3 col4\" >2</td>\n",
       "    </tr>\n",
       "    <tr>\n",
       "      <th id=\"T_048ef_level1_row4\" class=\"row_heading level1 row4\" >2</th>\n",
       "      <td id=\"T_048ef_row4_col0\" class=\"data row4 col0\" >0</td>\n",
       "      <td id=\"T_048ef_row4_col1\" class=\"data row4 col1\" >2</td>\n",
       "      <td id=\"T_048ef_row4_col2\" class=\"data row4 col2\" >1</td>\n",
       "      <td id=\"T_048ef_row4_col3\" class=\"data row4 col3\" >0</td>\n",
       "      <td id=\"T_048ef_row4_col4\" class=\"data row4 col4\" >3</td>\n",
       "    </tr>\n",
       "    <tr>\n",
       "      <th id=\"T_048ef_level1_row5\" class=\"row_heading level1 row5\" >3</th>\n",
       "      <td id=\"T_048ef_row5_col0\" class=\"data row5 col0\" >9</td>\n",
       "      <td id=\"T_048ef_row5_col1\" class=\"data row5 col1\" >24</td>\n",
       "      <td id=\"T_048ef_row5_col2\" class=\"data row5 col2\" >36</td>\n",
       "      <td id=\"T_048ef_row5_col3\" class=\"data row5 col3\" >3</td>\n",
       "      <td id=\"T_048ef_row5_col4\" class=\"data row5 col4\" >72</td>\n",
       "    </tr>\n",
       "    <tr>\n",
       "      <th id=\"T_048ef_level0_row6\" class=\"row_heading level0 row6\" rowspan=\"3\">S</th>\n",
       "      <th id=\"T_048ef_level1_row6\" class=\"row_heading level1 row6\" >1</th>\n",
       "      <td id=\"T_048ef_row6_col0\" class=\"data row6 col0\" >2</td>\n",
       "      <td id=\"T_048ef_row6_col1\" class=\"data row6 col1\" >46</td>\n",
       "      <td id=\"T_048ef_row6_col2\" class=\"data row6 col2\" >51</td>\n",
       "      <td id=\"T_048ef_row6_col3\" class=\"data row6 col3\" >28</td>\n",
       "      <td id=\"T_048ef_row6_col4\" class=\"data row6 col4\" >127</td>\n",
       "    </tr>\n",
       "    <tr>\n",
       "      <th id=\"T_048ef_level1_row7\" class=\"row_heading level1 row7\" >2</th>\n",
       "      <td id=\"T_048ef_row7_col0\" class=\"data row7 col0\" >6</td>\n",
       "      <td id=\"T_048ef_row7_col1\" class=\"data row7 col1\" >61</td>\n",
       "      <td id=\"T_048ef_row7_col2\" class=\"data row7 col2\" >82</td>\n",
       "      <td id=\"T_048ef_row7_col3\" class=\"data row7 col3\" >15</td>\n",
       "      <td id=\"T_048ef_row7_col4\" class=\"data row7 col4\" >164</td>\n",
       "    </tr>\n",
       "    <tr>\n",
       "      <th id=\"T_048ef_level1_row8\" class=\"row_heading level1 row8\" >3</th>\n",
       "      <td id=\"T_048ef_row8_col0\" class=\"data row8 col0\" >55</td>\n",
       "      <td id=\"T_048ef_row8_col1\" class=\"data row8 col1\" >33</td>\n",
       "      <td id=\"T_048ef_row8_col2\" class=\"data row8 col2\" >231</td>\n",
       "      <td id=\"T_048ef_row8_col3\" class=\"data row8 col3\" >34</td>\n",
       "      <td id=\"T_048ef_row8_col4\" class=\"data row8 col4\" >353</td>\n",
       "    </tr>\n",
       "    <tr>\n",
       "      <th id=\"T_048ef_level0_row9\" class=\"row_heading level0 row9\" >All</th>\n",
       "      <th id=\"T_048ef_level1_row9\" class=\"row_heading level1 row9\" ></th>\n",
       "      <td id=\"T_048ef_row9_col0\" class=\"data row9 col0\" >81</td>\n",
       "      <td id=\"T_048ef_row9_col1\" class=\"data row9 col1\" >231</td>\n",
       "      <td id=\"T_048ef_row9_col2\" class=\"data row9 col2\" >468</td>\n",
       "      <td id=\"T_048ef_row9_col3\" class=\"data row9 col3\" >109</td>\n",
       "      <td id=\"T_048ef_row9_col4\" class=\"data row9 col4\" >889</td>\n",
       "    </tr>\n",
       "  </tbody>\n",
       "</table>\n"
      ],
      "text/plain": [
       "<pandas.io.formats.style.Styler at 0x7f54c6cafcd0>"
      ]
     },
     "execution_count": 22,
     "metadata": {},
     "output_type": "execute_result"
    }
   ],
   "source": [
    "pd.crosstab([data.Embarked, data.Pclass],[data.Sex, data.Survived], margins=True).style.background_gradient(cmap='summer_r')"
   ]
  },
  {
   "cell_type": "markdown",
   "id": "656df017",
   "metadata": {
    "papermill": {
     "duration": 0.012973,
     "end_time": "2022-07-10T05:41:03.453837",
     "exception": false,
     "start_time": "2022-07-10T05:41:03.440864",
     "status": "completed"
    },
    "tags": []
   },
   "source": [
    "## Chances for Survival by Port Of Embarkation"
   ]
  },
  {
   "cell_type": "code",
   "execution_count": 23,
   "id": "3b135443",
   "metadata": {
    "execution": {
     "iopub.execute_input": "2022-07-10T05:41:03.482822Z",
     "iopub.status.busy": "2022-07-10T05:41:03.482086Z",
     "iopub.status.idle": "2022-07-10T05:41:03.782831Z",
     "shell.execute_reply": "2022-07-10T05:41:03.781710Z"
    },
    "papermill": {
     "duration": 0.31791,
     "end_time": "2022-07-10T05:41:03.785128",
     "exception": false,
     "start_time": "2022-07-10T05:41:03.467218",
     "status": "completed"
    },
    "tags": []
   },
   "outputs": [
    {
     "data": {
      "image/png": "[encoded data removed]",
      "text/plain": [
       "<Figure size 360x216 with 1 Axes>"
      ]
     },
     "metadata": {
      "needs_background": "light"
     },
     "output_type": "display_data"
    }
   ],
   "source": [
    "sns.factorplot('Embarked', 'Survived', data=data)\n",
    "fig=plt.gcf()\n",
    "fig.set_size_inches(5,3)\n",
    "plt.show()"
   ]
  },
  {
   "cell_type": "markdown",
   "id": "d290f9e1",
   "metadata": {
    "papermill": {
     "duration": 0.01343,
     "end_time": "2022-07-10T05:41:03.812177",
     "exception": false,
     "start_time": "2022-07-10T05:41:03.798747",
     "status": "completed"
    },
    "tags": []
   },
   "source": [
    "The chances for survival for Port C is highest around 0.55 while it is lowest for S."
   ]
  },
  {
   "cell_type": "code",
   "execution_count": null,
   "id": "fecd2c13",
   "metadata": {
    "papermill": {
     "duration": 0.013224,
     "end_time": "2022-07-10T05:41:03.839031",
     "exception": false,
     "start_time": "2022-07-10T05:41:03.825807",
     "status": "completed"
    },
    "tags": []
   },
   "outputs": [],
   "source": []
  }
 ],
 "metadata": {
  "kernelspec": {
   "display_name": "Python 3",
   "language": "python",
   "name": "python3"
  },
  "language_info": {
   "codemirror_mode": {
    "name": "ipython",
    "version": 3
   },
   "file_extension": ".py",
   "mimetype": "text/x-python",
   "name": "python",
   "nbconvert_exporter": "python",
   "pygments_lexer": "ipython3",
   "version": "3.7.12"
  },
  "papermill": {
   "default_parameters": {},
   "duration": 15.91729,
   "end_time": "2022-07-10T05:41:04.574134",
   "environment_variables": {},
   "exception": null,
   "input_path": "__notebook__.ipynb",
   "output_path": "__notebook__.ipynb",
   "parameters": {},
   "start_time": "2022-07-10T05:40:48.656844",
   "version": "2.3.4"
  }
 },
 "nbformat": 4,
 "nbformat_minor": 5
}
